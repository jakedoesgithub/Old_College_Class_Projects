{
 "cells": [
  {
   "cell_type": "code",
   "execution_count": 1,
   "metadata": {},
   "outputs": [],
   "source": [
    "from sklearn.svm import SVC\n",
    "import os\n",
    "from os import listdir\n",
    "from os.path import isfile, join\n",
    "from sklearn.pipeline import Pipeline\n",
    "from sklearn.model_selection import GridSearchCV\n",
    "from sklearn.metrics import accuracy_score, f1_score\n",
    "from sklearn.metrics import classification_report\n",
    "import json\n",
    "import pandas as pd\n",
    "from textblob import TextBlob\n"
   ]
  },
  {
   "cell_type": "code",
   "execution_count": 2,
   "metadata": {},
   "outputs": [],
   "source": [
    "fullsearches = './full_searches'\n",
    "hellboy = 'standard_hellboy_tweets.txt'\n",
    "shazam = 'standard_shazam_tweets.txt'\n",
    "lsucsc = '30day_lsucsc_tweets.txt'\n",
    "ullcsc = '30day_ullcsc_tweets.txt'"
   ]
  },
  {
   "cell_type": "code",
   "execution_count": 3,
   "metadata": {},
   "outputs": [
    {
     "name": "stdout",
     "output_type": "stream",
     "text": [
      "total number of tweets standard_hellboy_tweets.txt dataset is: 5430\n",
      "\n",
      "The polarity of these tweets averages 0.10\n"
     ]
    }
   ],
   "source": [
    "hellpol = 0\n",
    "n = 0;\n",
    "with open('standard_hellboy_tweets.txt', encoding='utf-8') as file:  \n",
    "    all_data = json.load(file)\n",
    "    for each_dictionary in all_data:\n",
    "        whole_tweet = each_dictionary['text']\n",
    "        hellpol = hellpol + TextBlob(whole_tweet).sentiment.polarity\n",
    "        n = n+1\n",
    "\n",
    "print(f\"total number of tweets {hellboy} dataset is: {n}\\n\")       \n",
    "print(f'The polarity of these tweets averages %.4s' %((str)(hellpol / n)))"
   ]
  },
  {
   "cell_type": "code",
   "execution_count": 4,
   "metadata": {},
   "outputs": [
    {
     "name": "stdout",
     "output_type": "stream",
     "text": [
      "total number of tweets standard_shazam_tweets.txt dataset is: 5401\n",
      "\n",
      "The polarity of these tweets averages 0.19\n"
     ]
    }
   ],
   "source": [
    "shapol = 0\n",
    "n = 0;\n",
    "with open(shazam, encoding='utf-8') as file:  \n",
    "    all_data = json.load(file)\n",
    "    for each_dictionary in all_data:\n",
    "        whole_tweet = each_dictionary['text']\n",
    "        shapol = shapol + TextBlob(whole_tweet).sentiment.polarity\n",
    "        n = n+1\n",
    "\n",
    "print(f\"total number of tweets {shazam} dataset is: {n}\\n\")\n",
    "print(f'The polarity of these tweets averages %.4s' %((str)(shapol / n)))"
   ]
  },
  {
   "cell_type": "code",
   "execution_count": 5,
   "metadata": {},
   "outputs": [
    {
     "name": "stdout",
     "output_type": "stream",
     "text": [
      "total number of tweets 30day_ullcsc_tweets.txt dataset is: 9881\n",
      "\n",
      "The polarity of these tweets averages 0.12\n"
     ]
    }
   ],
   "source": [
    "ullpol = 0\n",
    "n = 0;\n",
    "with open(ullcsc, encoding='utf-8') as file:  \n",
    "    all_data = json.load(file)\n",
    "    for each_dictionary in all_data:\n",
    "        whole_tweet = each_dictionary['text']\n",
    "        ullpol = ullpol + TextBlob(whole_tweet).sentiment.polarity\n",
    "        n = n+1\n",
    "\n",
    "print(f\"total number of tweets {ullcsc} dataset is: {n}\\n\")        \n",
    "print(f'The polarity of these tweets averages %.4s' %((str)(ullpol / n)))"
   ]
  },
  {
   "cell_type": "code",
   "execution_count": 6,
   "metadata": {},
   "outputs": [
    {
     "name": "stdout",
     "output_type": "stream",
     "text": [
      "total number of tweets 30day_lsucsc_tweets.txt dataset is: 9885\n",
      "\n",
      "The polarity of these tweets averages 0.12\n"
     ]
    }
   ],
   "source": [
    "lsupol = 0\n",
    "n = 0;\n",
    "with open(lsucsc, encoding='utf-8') as file:  \n",
    "    all_data = json.load(file)\n",
    "    for each_dictionary in all_data:\n",
    "        whole_tweet = each_dictionary['text']\n",
    "        lsupol = lsupol + TextBlob(whole_tweet).sentiment.polarity\n",
    "        n = n+1\n",
    "\n",
    "print(f\"total number of tweets {lsucsc} dataset is: {n}\\n\")        \n",
    "print(f'The polarity of these tweets averages %.4s' %((str)(lsupol / n)))"
   ]
  },
  {
   "cell_type": "code",
   "execution_count": 7,
   "metadata": {
    "scrolled": false
   },
   "outputs": [
    {
     "name": "stdout",
     "output_type": "stream",
     "text": [
      "total number of tweets in ./full_searches/tweets_APR16.txt dataset is: 398\n",
      "For tweets_APR16.txt the polarity is 0.0622)\n",
      "\n",
      "total number of tweets in ./full_searches/tweets_APR17.txt dataset is: 586\n",
      "For tweets_APR17.txt the polarity is 0.0714)\n",
      "\n",
      "total number of tweets in ./full_searches/tweets_APR18.txt dataset is: 786\n",
      "For tweets_APR18.txt the polarity is 0.1479)\n",
      "\n",
      "total number of tweets in ./full_searches/tweets_AUG15.txt dataset is: 1186\n",
      "For tweets_AUG15.txt the polarity is 0.0407)\n",
      "\n",
      "total number of tweets in ./full_searches/tweets_AUG16.txt dataset is: 1980\n",
      "For tweets_AUG16.txt the polarity is 0.0783)\n",
      "\n",
      "total number of tweets in ./full_searches/tweets_AUG17.txt dataset is: 2368\n",
      "For tweets_AUG17.txt the polarity is 0.0749)\n",
      "\n",
      "total number of tweets in ./full_searches/tweets_AUG18.txt dataset is: 2767\n",
      "For tweets_AUG18.txt the polarity is 0.1182)\n",
      "\n",
      "total number of tweets in ./full_searches/tweets_DEC15.txt dataset is: 2867\n",
      "For tweets_DEC15.txt the polarity is 0.0961)\n",
      "\n",
      "total number of tweets in ./full_searches/tweets_DEC16.txt dataset is: 4061\n",
      "For tweets_DEC16.txt the polarity is 0.0844)\n",
      "\n",
      "total number of tweets in ./full_searches/tweets_DEC17.txt dataset is: 4649\n",
      "For tweets_DEC17.txt the polarity is 0.0727)\n",
      "\n",
      "total number of tweets in ./full_searches/tweets_DEC18.txt dataset is: 5248\n",
      "For tweets_DEC18.txt the polarity is 0.0986)\n",
      "\n",
      "total number of tweets in ./full_searches/tweets_FEB16.txt dataset is: 5447\n",
      "For tweets_FEB16.txt the polarity is 0.0770)\n",
      "\n",
      "total number of tweets in ./full_searches/tweets_FEB17.txt dataset is: 5547\n",
      "For tweets_FEB17.txt the polarity is 0.0893)\n",
      "\n",
      "total number of tweets in ./full_searches/tweets_FEB18.txt dataset is: 5647\n",
      "For tweets_FEB18.txt the polarity is 0.1410)\n",
      "\n",
      "total number of tweets in ./full_searches/tweets_FEB19.txt dataset is: 5744\n",
      "For tweets_FEB19.txt the polarity is 0.1407)\n",
      "\n",
      "total number of tweets in ./full_searches/tweets_JAN16.txt dataset is: 5843\n",
      "For tweets_JAN16.txt the polarity is 0.1038)\n",
      "\n",
      "total number of tweets in ./full_searches/tweets_JAN17.txt dataset is: 5942\n",
      "For tweets_JAN17.txt the polarity is 0.0979)\n",
      "\n",
      "total number of tweets in ./full_searches/tweets_JAN18.txt dataset is: 6041\n",
      "For tweets_JAN18.txt the polarity is 0.1622)\n",
      "\n",
      "total number of tweets in ./full_searches/tweets_JAN19.txt dataset is: 6141\n",
      "For tweets_JAN19.txt the polarity is 0.1105)\n",
      "\n",
      "total number of tweets in ./full_searches/tweets_JUL15.txt dataset is: 6641\n",
      "For tweets_JUL15.txt the polarity is 0.0484)\n",
      "\n",
      "total number of tweets in ./full_searches/tweets_JUL16.txt dataset is: 7335\n",
      "For tweets_JUL16.txt the polarity is 0.0852)\n",
      "\n",
      "total number of tweets in ./full_searches/tweets_JUL17.txt dataset is: 7734\n",
      "For tweets_JUL17.txt the polarity is 0.1142)\n",
      "\n",
      "total number of tweets in ./full_searches/tweets_JUL18.txt dataset is: 8130\n",
      "For tweets_JUL18.txt the polarity is 0.1256)\n",
      "\n",
      "total number of tweets in ./full_searches/tweets_JUN15.txt dataset is: 8730\n",
      "For tweets_JUN15.txt the polarity is 0.0458)\n",
      "\n",
      "total number of tweets in ./full_searches/tweets_JUN16.txt dataset is: 9325\n",
      "For tweets_JUN16.txt the polarity is 0.0954)\n",
      "\n",
      "total number of tweets in ./full_searches/tweets_JUN17.txt dataset is: 9613\n",
      "For tweets_JUN17.txt the polarity is 0.0665)\n",
      "\n",
      "total number of tweets in ./full_searches/tweets_JUN18.txt dataset is: 9912\n",
      "For tweets_JUN18.txt the polarity is 0.1243)\n",
      "\n",
      "total number of tweets in ./full_searches/tweets_MAR16.txt dataset is: 10210\n",
      "For tweets_MAR16.txt the polarity is 0.0585)\n",
      "\n",
      "total number of tweets in ./full_searches/tweets_MAR17.txt dataset is: 10409\n",
      "For tweets_MAR17.txt the polarity is 0.1111)\n",
      "\n",
      "total number of tweets in ./full_searches/tweets_MAR18.txt dataset is: 10607\n",
      "For tweets_MAR18.txt the polarity is 0.1277)\n",
      "\n",
      "total number of tweets in ./full_searches/tweets_MAY16.txt dataset is: 11104\n",
      "For tweets_MAY16.txt the polarity is 0.0669)\n",
      "\n",
      "total number of tweets in ./full_searches/tweets_MAY17.txt dataset is: 11403\n",
      "For tweets_MAY17.txt the polarity is 0.1124)\n",
      "\n",
      "total number of tweets in ./full_searches/tweets_MAY18.txt dataset is: 11700\n",
      "For tweets_MAY18.txt the polarity is 0.1236)\n",
      "\n",
      "total number of tweets in ./full_searches/tweets_NOV15.txt dataset is: 11800\n",
      "For tweets_NOV15.txt the polarity is 0.1091)\n",
      "\n",
      "total number of tweets in ./full_searches/tweets_NOV16.txt dataset is: 12894\n",
      "For tweets_NOV16.txt the polarity is 0.0839)\n",
      "\n",
      "total number of tweets in ./full_searches/tweets_NOV17.txt dataset is: 13493\n",
      "For tweets_NOV17.txt the polarity is 0.1187)\n",
      "\n",
      "total number of tweets in ./full_searches/tweets_NOV18.txt dataset is: 14089\n",
      "For tweets_NOV18.txt the polarity is 0.1295)\n",
      "\n",
      "total number of tweets in ./full_searches/tweets_OCT15.txt dataset is: 14289\n",
      "For tweets_OCT15.txt the polarity is 0.0848)\n",
      "\n",
      "total number of tweets in ./full_searches/tweets_OCT16.txt dataset is: 15283\n",
      "For tweets_OCT16.txt the polarity is 0.0834)\n",
      "\n",
      "total number of tweets in ./full_searches/tweets_OCT17.txt dataset is: 15771\n",
      "For tweets_OCT17.txt the polarity is 0.0787)\n",
      "\n",
      "total number of tweets in ./full_searches/tweets_OCT18.txt dataset is: 16270\n",
      "For tweets_OCT18.txt the polarity is 0.1064)\n",
      "\n",
      "total number of tweets in ./full_searches/tweets_SEP15.txt dataset is: 16570\n",
      "For tweets_SEP15.txt the polarity is 0.0915)\n",
      "\n",
      "total number of tweets in ./full_searches/tweets_SEP16.txt dataset is: 17464\n",
      "For tweets_SEP16.txt the polarity is 0.0835)\n",
      "\n",
      "total number of tweets in ./full_searches/tweets_SEP17.txt dataset is: 17963\n",
      "For tweets_SEP17.txt the polarity is 0.1144)\n",
      "\n",
      "total number of tweets in ./full_searches/tweets_SEP18.txt dataset is: 18459\n",
      "For tweets_SEP18.txt the polarity is 0.1266)\n",
      "\n",
      "total number of tweets fullsearches dataset is: 18459\n",
      "\n",
      "The polarity of these tweets averages 0.09\n"
     ]
    }
   ],
   "source": [
    "fullpol = 0\n",
    "n = 0;\n",
    "partpol = 0\n",
    "m = 0\n",
    "onlyfiles = [f for f in listdir(fullsearches) if isfile(join(fullsearches, f))]\n",
    "for f in onlyfiles:\n",
    "    location = './full_searches/'\n",
    "    location = location + (f)\n",
    "    partpol = 0\n",
    "    m = 0\n",
    "    with open(location, encoding='utf-8') as file:\n",
    "        all_data = json.load(file)\n",
    "        for each_dictionary in all_data:\n",
    "            whole_tweet = each_dictionary['text']\n",
    "            partpol = partpol + TextBlob(whole_tweet).sentiment.polarity\n",
    "            n = n+1\n",
    "            m = m+1\n",
    "        print(f\"total number of tweets in {location} dataset is: {n}\")\n",
    "        print(f'For %s the polarity is %.4f)' %(f, (float)(partpol/m)), end = \"\\n\\n\")\n",
    "        fullpol = fullpol + partpol\n",
    "            \n",
    "\n",
    "print(f\"total number of tweets fullsearches dataset is: {n}\\n\")        \n",
    "print(f'The polarity of these tweets averages %.4s' %((str)(fullpol / n)))"
   ]
  },
  {
   "cell_type": "code",
   "execution_count": null,
   "metadata": {},
   "outputs": [],
   "source": []
  },
  {
   "cell_type": "code",
   "execution_count": null,
   "metadata": {},
   "outputs": [],
   "source": []
  },
  {
   "cell_type": "code",
   "execution_count": null,
   "metadata": {},
   "outputs": [],
   "source": []
  },
  {
   "cell_type": "code",
   "execution_count": null,
   "metadata": {},
   "outputs": [],
   "source": []
  }
 ],
 "metadata": {
  "kernelspec": {
   "display_name": "Python 3",
   "language": "python",
   "name": "python3"
  },
  "language_info": {
   "codemirror_mode": {
    "name": "ipython",
    "version": 3
   },
   "file_extension": ".py",
   "mimetype": "text/x-python",
   "name": "python",
   "nbconvert_exporter": "python",
   "pygments_lexer": "ipython3",
   "version": "3.7.3"
  }
 },
 "nbformat": 4,
 "nbformat_minor": 2
}
